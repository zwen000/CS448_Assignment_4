{
 "cells": [
  {
   "cell_type": "markdown",
   "metadata": {
    "colab": {
     "base_uri": "https://localhost:8080/",
     "height": 647
    },
    "id": "S8PKiVJaL_AW",
    "outputId": "23c2a4cd-0c53-4a1c-c454-7ed87e392a8c"
   },
   "source": [
    "<a href=\"https://colab.research.google.com/github/zwen000/CS448_Assignment_4/blob/main/a3_sample_notebook.ipynb\" target=\"_parent\"><img src=\"https://colab.research.google.com/assets/colab-badge.svg\" alt=\"Open In Colab\"/></a>\n",
    "\n",
    "\\(\\^Be sure to update this button to point to your notebook instead of the sample notebook\\)"
   ]
  },
  {
   "cell_type": "code",
   "execution_count": 207,
   "metadata": {},
   "outputs": [],
   "source": [
    "# Imports and pip installations (if needed)\n",
    "from sklearn.datasets import load_iris\n",
    "import pandas as pd\n",
    "import numpy as np\n",
    "from sklearn.model_selection import train_test_split\n",
    "from sklearn import svm\n",
    "from sklearn.linear_model import LogisticRegression\n",
    "from sklearn.model_selection import cross_val_score,ShuffleSplit,cross_val_predict\n",
    "from sklearn.preprocessing import PolynomialFeatures\n",
    "from sklearn.svm import SVC\n",
    "from sklearn.preprocessing import StandardScaler\n",
    "from sklearn.neural_network import MLPClassifier\n",
    "from sklearn.neighbors import KNeighborsClassifier\n",
    "from sklearn.metrics import classification_report, confusion_matrix, accuracy_score"
   ]
  },
  {
   "cell_type": "markdown",
   "metadata": {
    "id": "A05Q5B0_NUX9"
   },
   "source": [
    "# Part 1: Load the dataset"
   ]
  },
  {
   "cell_type": "code",
   "execution_count": 208,
   "metadata": {
    "colab": {
     "base_uri": "https://localhost:8080/",
     "height": 735
    },
    "id": "YZ4MUsbXNZ0P",
    "outputId": "77e7a628-792f-4d28-b7b1-e06f4db3efd3"
   },
   "outputs": [
    {
     "data": {
      "text/html": [
       "<div>\n",
       "<style scoped>\n",
       "    .dataframe tbody tr th:only-of-type {\n",
       "        vertical-align: middle;\n",
       "    }\n",
       "\n",
       "    .dataframe tbody tr th {\n",
       "        vertical-align: top;\n",
       "    }\n",
       "\n",
       "    .dataframe thead th {\n",
       "        text-align: right;\n",
       "    }\n",
       "</style>\n",
       "<table border=\"1\" class=\"dataframe\">\n",
       "  <thead>\n",
       "    <tr style=\"text-align: right;\">\n",
       "      <th></th>\n",
       "      <th>sepal length (cm)</th>\n",
       "      <th>sepal width (cm)</th>\n",
       "      <th>petal length (cm)</th>\n",
       "      <th>petal width (cm)</th>\n",
       "      <th>target</th>\n",
       "    </tr>\n",
       "  </thead>\n",
       "  <tbody>\n",
       "    <tr>\n",
       "      <th>0</th>\n",
       "      <td>5.1</td>\n",
       "      <td>3.5</td>\n",
       "      <td>1.4</td>\n",
       "      <td>0.2</td>\n",
       "      <td>0.0</td>\n",
       "    </tr>\n",
       "    <tr>\n",
       "      <th>1</th>\n",
       "      <td>4.9</td>\n",
       "      <td>3.0</td>\n",
       "      <td>1.4</td>\n",
       "      <td>0.2</td>\n",
       "      <td>0.0</td>\n",
       "    </tr>\n",
       "    <tr>\n",
       "      <th>2</th>\n",
       "      <td>4.7</td>\n",
       "      <td>3.2</td>\n",
       "      <td>1.3</td>\n",
       "      <td>0.2</td>\n",
       "      <td>0.0</td>\n",
       "    </tr>\n",
       "    <tr>\n",
       "      <th>3</th>\n",
       "      <td>4.6</td>\n",
       "      <td>3.1</td>\n",
       "      <td>1.5</td>\n",
       "      <td>0.2</td>\n",
       "      <td>0.0</td>\n",
       "    </tr>\n",
       "    <tr>\n",
       "      <th>4</th>\n",
       "      <td>5.0</td>\n",
       "      <td>3.6</td>\n",
       "      <td>1.4</td>\n",
       "      <td>0.2</td>\n",
       "      <td>0.0</td>\n",
       "    </tr>\n",
       "    <tr>\n",
       "      <th>5</th>\n",
       "      <td>5.4</td>\n",
       "      <td>3.9</td>\n",
       "      <td>1.7</td>\n",
       "      <td>0.4</td>\n",
       "      <td>0.0</td>\n",
       "    </tr>\n",
       "    <tr>\n",
       "      <th>6</th>\n",
       "      <td>4.6</td>\n",
       "      <td>3.4</td>\n",
       "      <td>1.4</td>\n",
       "      <td>0.3</td>\n",
       "      <td>0.0</td>\n",
       "    </tr>\n",
       "    <tr>\n",
       "      <th>7</th>\n",
       "      <td>5.0</td>\n",
       "      <td>3.4</td>\n",
       "      <td>1.5</td>\n",
       "      <td>0.2</td>\n",
       "      <td>0.0</td>\n",
       "    </tr>\n",
       "    <tr>\n",
       "      <th>8</th>\n",
       "      <td>4.4</td>\n",
       "      <td>2.9</td>\n",
       "      <td>1.4</td>\n",
       "      <td>0.2</td>\n",
       "      <td>0.0</td>\n",
       "    </tr>\n",
       "    <tr>\n",
       "      <th>9</th>\n",
       "      <td>4.9</td>\n",
       "      <td>3.1</td>\n",
       "      <td>1.5</td>\n",
       "      <td>0.1</td>\n",
       "      <td>0.0</td>\n",
       "    </tr>\n",
       "    <tr>\n",
       "      <th>10</th>\n",
       "      <td>5.4</td>\n",
       "      <td>3.7</td>\n",
       "      <td>1.5</td>\n",
       "      <td>0.2</td>\n",
       "      <td>0.0</td>\n",
       "    </tr>\n",
       "    <tr>\n",
       "      <th>11</th>\n",
       "      <td>4.8</td>\n",
       "      <td>3.4</td>\n",
       "      <td>1.6</td>\n",
       "      <td>0.2</td>\n",
       "      <td>0.0</td>\n",
       "    </tr>\n",
       "    <tr>\n",
       "      <th>12</th>\n",
       "      <td>4.8</td>\n",
       "      <td>3.0</td>\n",
       "      <td>1.4</td>\n",
       "      <td>0.1</td>\n",
       "      <td>0.0</td>\n",
       "    </tr>\n",
       "    <tr>\n",
       "      <th>13</th>\n",
       "      <td>4.3</td>\n",
       "      <td>3.0</td>\n",
       "      <td>1.1</td>\n",
       "      <td>0.1</td>\n",
       "      <td>0.0</td>\n",
       "    </tr>\n",
       "    <tr>\n",
       "      <th>14</th>\n",
       "      <td>5.8</td>\n",
       "      <td>4.0</td>\n",
       "      <td>1.2</td>\n",
       "      <td>0.2</td>\n",
       "      <td>0.0</td>\n",
       "    </tr>\n",
       "  </tbody>\n",
       "</table>\n",
       "</div>"
      ],
      "text/plain": [
       "    sepal length (cm)  sepal width (cm)  petal length (cm)  petal width (cm)  \\\n",
       "0                 5.1               3.5                1.4               0.2   \n",
       "1                 4.9               3.0                1.4               0.2   \n",
       "2                 4.7               3.2                1.3               0.2   \n",
       "3                 4.6               3.1                1.5               0.2   \n",
       "4                 5.0               3.6                1.4               0.2   \n",
       "5                 5.4               3.9                1.7               0.4   \n",
       "6                 4.6               3.4                1.4               0.3   \n",
       "7                 5.0               3.4                1.5               0.2   \n",
       "8                 4.4               2.9                1.4               0.2   \n",
       "9                 4.9               3.1                1.5               0.1   \n",
       "10                5.4               3.7                1.5               0.2   \n",
       "11                4.8               3.4                1.6               0.2   \n",
       "12                4.8               3.0                1.4               0.1   \n",
       "13                4.3               3.0                1.1               0.1   \n",
       "14                5.8               4.0                1.2               0.2   \n",
       "\n",
       "    target  \n",
       "0      0.0  \n",
       "1      0.0  \n",
       "2      0.0  \n",
       "3      0.0  \n",
       "4      0.0  \n",
       "5      0.0  \n",
       "6      0.0  \n",
       "7      0.0  \n",
       "8      0.0  \n",
       "9      0.0  \n",
       "10     0.0  \n",
       "11     0.0  \n",
       "12     0.0  \n",
       "13     0.0  \n",
       "14     0.0  "
      ]
     },
     "execution_count": 208,
     "metadata": {},
     "output_type": "execute_result"
    }
   ],
   "source": [
    "# Load the dataset (load remotely, not locally)\n",
    "iris = load_iris()\n",
    "# Output the first 15 rows of the data\n",
    "\n",
    "# Display a summary of the table information (number of datapoints, etc.)\n",
    "#df = pd.DataFrame(data= np.c_[iris['data'], iris['target']],columns= iris['feature_names'] + ['target'])\n",
    "df=pd.DataFrame(np.c_[iris['data'], iris['target']])\n",
    "\n",
    "df.columns=iris['feature_names']+ ['target']\n",
    "df.head(15)"
   ]
  },
  {
   "cell_type": "code",
   "execution_count": 209,
   "metadata": {},
   "outputs": [
    {
     "name": "stdout",
     "output_type": "stream",
     "text": [
      "<class 'pandas.core.frame.DataFrame'>\n",
      "RangeIndex: 150 entries, 0 to 149\n",
      "Data columns (total 5 columns):\n",
      "sepal length (cm)    150 non-null float64\n",
      "sepal width (cm)     150 non-null float64\n",
      "petal length (cm)    150 non-null float64\n",
      "petal width (cm)     150 non-null float64\n",
      "target               150 non-null float64\n",
      "dtypes: float64(5)\n",
      "memory usage: 5.9 KB\n"
     ]
    },
    {
     "data": {
      "text/plain": [
       "750"
      ]
     },
     "execution_count": 209,
     "metadata": {},
     "output_type": "execute_result"
    }
   ],
   "source": [
    "df.info()\n",
    "df.describe()\n",
    "df.size"
   ]
  },
  {
   "cell_type": "markdown",
   "metadata": {
    "id": "wRMtsJKBaxWu"
   },
   "source": [
    "## About the dataset\n",
    "Explain what the data is in your own words. What are your features and labels? What is the mapping of your labels to the actual classes?"
   ]
  },
  {
   "cell_type": "markdown",
   "metadata": {
    "id": "DhKaIrZKNaHg"
   },
   "source": [
    "# Part 2: Split the dataset into train and test"
   ]
  },
  {
   "cell_type": "code",
   "execution_count": 210,
   "metadata": {
    "colab": {
     "base_uri": "https://localhost:8080/"
    },
    "id": "OrgogB62NcOi",
    "outputId": "7bbfb1ea-88ed-4944-ab94-48696b9a71df"
   },
   "outputs": [
    {
     "data": {
      "text/plain": [
       "(     sepal length (cm)  sepal width (cm)  petal length (cm)  petal width (cm)\n",
       " 71                 6.1               2.8                4.0               1.3\n",
       " 103                6.3               2.9                5.6               1.8\n",
       " 61                 5.9               3.0                4.2               1.5\n",
       " 17                 5.1               3.5                1.4               0.3\n",
       " 68                 6.2               2.2                4.5               1.5\n",
       " 3                  4.6               3.1                1.5               0.2\n",
       " 72                 6.3               2.5                4.9               1.5\n",
       " 79                 5.7               2.6                3.5               1.0\n",
       " 48                 5.3               3.7                1.5               0.2\n",
       " 9                  4.9               3.1                1.5               0.1\n",
       " 108                6.7               2.5                5.8               1.8\n",
       " 50                 7.0               3.2                4.7               1.4\n",
       " 109                7.2               3.6                6.1               2.5\n",
       " 86                 6.7               3.1                4.7               1.5\n",
       " 149                5.9               3.0                5.1               1.8\n",
       " 47                 4.6               3.2                1.4               0.2\n",
       " 101                5.8               2.7                5.1               1.9\n",
       " 141                6.9               3.1                5.1               2.3\n",
       " 123                6.3               2.7                4.9               1.8\n",
       " 115                6.4               3.2                5.3               2.3\n",
       " 31                 5.4               3.4                1.5               0.4\n",
       " 75                 6.6               3.0                4.4               1.4\n",
       " 5                  5.4               3.9                1.7               0.4\n",
       " 66                 5.6               3.0                4.5               1.5\n",
       " 125                7.2               3.2                6.0               1.8\n",
       " 124                6.7               3.3                5.7               2.1\n",
       " 127                6.1               3.0                4.9               1.8\n",
       " 85                 6.0               3.4                4.5               1.6\n",
       " 60                 5.0               2.0                3.5               1.0\n",
       " 64                 5.6               2.9                3.6               1.3\n",
       " ..                 ...               ...                ...               ...\n",
       " 28                 5.2               3.4                1.4               0.2\n",
       " 145                6.7               3.0                5.2               2.3\n",
       " 143                6.8               3.2                5.9               2.3\n",
       " 98                 5.1               2.5                3.0               1.1\n",
       " 99                 5.7               2.8                4.1               1.3\n",
       " 117                7.7               3.8                6.7               2.2\n",
       " 148                6.2               3.4                5.4               2.3\n",
       " 105                7.6               3.0                6.6               2.1\n",
       " 34                 4.9               3.1                1.5               0.2\n",
       " 39                 5.1               3.4                1.5               0.2\n",
       " 126                6.2               2.8                4.8               1.8\n",
       " 146                6.3               2.5                5.0               1.9\n",
       " 19                 5.1               3.8                1.5               0.3\n",
       " 26                 5.0               3.4                1.6               0.4\n",
       " 42                 4.4               3.2                1.3               0.2\n",
       " 33                 5.5               4.2                1.4               0.2\n",
       " 110                6.5               3.2                5.1               2.0\n",
       " 55                 5.7               2.8                4.5               1.3\n",
       " 94                 5.6               2.7                4.2               1.3\n",
       " 104                6.5               3.0                5.8               2.2\n",
       " 23                 5.1               3.3                1.7               0.5\n",
       " 144                6.7               3.3                5.7               2.5\n",
       " 45                 4.8               3.0                1.4               0.3\n",
       " 22                 4.6               3.6                1.0               0.2\n",
       " 35                 5.0               3.2                1.2               0.2\n",
       " 91                 6.1               3.0                4.6               1.4\n",
       " 137                6.4               3.1                5.5               1.8\n",
       " 7                  5.0               3.4                1.5               0.2\n",
       " 53                 5.5               2.3                4.0               1.3\n",
       " 67                 5.8               2.7                4.1               1.0\n",
       " \n",
       " [135 rows x 4 columns],\n",
       "      sepal length (cm)  sepal width (cm)  petal length (cm)  petal width (cm)\n",
       " 43                 5.0               3.5                1.6               0.6\n",
       " 38                 4.4               3.0                1.3               0.2\n",
       " 97                 6.2               2.9                4.3               1.3\n",
       " 32                 5.2               4.1                1.5               0.1\n",
       " 93                 5.0               2.3                3.3               1.0\n",
       " 6                  4.6               3.4                1.4               0.3\n",
       " 2                  4.7               3.2                1.3               0.2\n",
       " 63                 6.1               2.9                4.7               1.4\n",
       " 51                 6.4               3.2                4.5               1.5\n",
       " 73                 6.1               2.8                4.7               1.2\n",
       " 74                 6.4               2.9                4.3               1.3\n",
       " 139                6.9               3.1                5.4               2.1\n",
       " 131                7.9               3.8                6.4               2.0\n",
       " 54                 6.5               2.8                4.6               1.5\n",
       " 83                 6.0               2.7                5.1               1.6,\n",
       "      target\n",
       " 71      1.0\n",
       " 103     2.0\n",
       " 61      1.0\n",
       " 17      0.0\n",
       " 68      1.0\n",
       " 3       0.0\n",
       " 72      1.0\n",
       " 79      1.0\n",
       " 48      0.0\n",
       " 9       0.0\n",
       " 108     2.0\n",
       " 50      1.0\n",
       " 109     2.0\n",
       " 86      1.0\n",
       " 149     2.0\n",
       " 47      0.0\n",
       " 101     2.0\n",
       " 141     2.0\n",
       " 123     2.0\n",
       " 115     2.0\n",
       " 31      0.0\n",
       " 75      1.0\n",
       " 5       0.0\n",
       " 66      1.0\n",
       " 125     2.0\n",
       " 124     2.0\n",
       " 127     2.0\n",
       " 85      1.0\n",
       " 60      1.0\n",
       " 64      1.0\n",
       " ..      ...\n",
       " 28      0.0\n",
       " 145     2.0\n",
       " 143     2.0\n",
       " 98      1.0\n",
       " 99      1.0\n",
       " 117     2.0\n",
       " 148     2.0\n",
       " 105     2.0\n",
       " 34      0.0\n",
       " 39      0.0\n",
       " 126     2.0\n",
       " 146     2.0\n",
       " 19      0.0\n",
       " 26      0.0\n",
       " 42      0.0\n",
       " 33      0.0\n",
       " 110     2.0\n",
       " 55      1.0\n",
       " 94      1.0\n",
       " 104     2.0\n",
       " 23      0.0\n",
       " 144     2.0\n",
       " 45      0.0\n",
       " 22      0.0\n",
       " 35      0.0\n",
       " 91      1.0\n",
       " 137     2.0\n",
       " 7       0.0\n",
       " 53      1.0\n",
       " 67      1.0\n",
       " \n",
       " [135 rows x 1 columns],\n",
       "      target\n",
       " 43      0.0\n",
       " 38      0.0\n",
       " 97      1.0\n",
       " 32      0.0\n",
       " 93      1.0\n",
       " 6       0.0\n",
       " 2       0.0\n",
       " 63      1.0\n",
       " 51      1.0\n",
       " 73      1.0\n",
       " 74      1.0\n",
       " 139     2.0\n",
       " 131     2.0\n",
       " 54      1.0\n",
       " 83      1.0)"
      ]
     },
     "execution_count": 210,
     "metadata": {},
     "output_type": "execute_result"
    }
   ],
   "source": [
    "# Take the dataset and split it into our features (X) and label (y)\n",
    "X = df[[\"sepal length (cm)\", \"sepal width (cm)\", \"petal length (cm)\", \"petal width (cm)\"]]\n",
    "y = df[[\"target\"]]\n",
    "\n",
    "# Use sklearn to split the features and labels into a training/test set. (90% train, 10% test)\n",
    "X_train, X_test, y_train, y_test = train_test_split(X, y, test_size=0.1, random_state = 67)\n",
    "X_train, X_test, y_train, y_test\n"
   ]
  },
  {
   "cell_type": "code",
   "execution_count": 211,
   "metadata": {},
   "outputs": [
    {
     "name": "stdout",
     "output_type": "stream",
     "text": [
      "sepal length (cm)    5.0\n",
      "sepal width (cm)     3.5\n",
      "petal length (cm)    1.6\n",
      "petal width (cm)     0.6\n",
      "Name: 43, dtype: float64\n"
     ]
    }
   ],
   "source": [
    "print(X_test.iloc[0])\n",
    "sample = np.array([[ 5.0,3.5,1.6,0.6]])"
   ]
  },
  {
   "cell_type": "markdown",
   "metadata": {
    "id": "hblF-ei9Ncia"
   },
   "source": [
    "# Part 3: Logistic Regression"
   ]
  },
  {
   "cell_type": "code",
   "execution_count": 212,
   "metadata": {
    "colab": {
     "base_uri": "https://localhost:8080/"
    },
    "id": "IhFhEN03Nf7o",
    "outputId": "15a94661-020b-4520-b5f3-c34fdfb042f2",
    "scrolled": true
   },
   "outputs": [
    {
     "name": "stdout",
     "output_type": "stream",
     "text": [
      "Sample datapoint X: [[5.  3.5 1.6 0.6]], Prediction of  y: [0.]\n",
      "The probability of sample data point in class 0 is 0.9095881304179716\n",
      "The probability of sample data point in class 1 is 0.09033855866140514\n",
      "The probability of sample data point in class 2 is 7.331092062328637e-05\n"
     ]
    },
    {
     "name": "stderr",
     "output_type": "stream",
     "text": [
      "C:\\ProgramData\\Anaconda3\\lib\\site-packages\\sklearn\\linear_model\\logistic.py:432: FutureWarning: Default solver will be changed to 'lbfgs' in 0.22. Specify a solver to silence this warning.\n",
      "  FutureWarning)\n",
      "C:\\ProgramData\\Anaconda3\\lib\\site-packages\\sklearn\\utils\\validation.py:724: DataConversionWarning: A column-vector y was passed when a 1d array was expected. Please change the shape of y to (n_samples, ), for example using ravel().\n",
      "  y = column_or_1d(y, warn=True)\n",
      "C:\\ProgramData\\Anaconda3\\lib\\site-packages\\sklearn\\linear_model\\logistic.py:469: FutureWarning: Default multi_class will be changed to 'auto' in 0.22. Specify the multi_class option to silence this warning.\n",
      "  \"this warning.\", FutureWarning)\n"
     ]
    }
   ],
   "source": [
    "# i. Use sklearn to train a LogisticRegression model on the training set\n",
    "model = LogisticRegression()\n",
    "model.fit(X_train, y_train)\n",
    "\n",
    "# ii. For a sample datapoint, predict the probabilities for each possible class\n",
    "#sample = np.array([[ 5.1,3.8,1.5,0.3]])\n",
    "y_prediction = model.predict(sample)\n",
    "print(f\"Sample datapoint X: {sample}, Prediction of  y: {y_prediction}\")\n",
    "\n",
    "probabilities = model.predict_proba(sample)\n",
    "for i in range(len(probabilities[0])):\n",
    "    print(f\"The probability of sample data point in class {i} is {probabilities[0][i]}\")\n"
   ]
  },
  {
   "cell_type": "code",
   "execution_count": 213,
   "metadata": {},
   "outputs": [
    {
     "name": "stdout",
     "output_type": "stream",
     "text": [
      "Score of the model:  0.9333333333333333\n"
     ]
    }
   ],
   "source": [
    "# iii. Report on the score for Logistic regression model, what does the score measure?\n",
    "score = model.score(X_test, y_test)\n",
    "print(\"Score of the model: \", score)"
   ]
  },
  {
   "cell_type": "markdown",
   "metadata": {},
   "source": [
    "The score is the coefficient of prediction, it represents the model's capability in predicting the correct label. The best possible score is 1.0, a model with a score closer to 1.0 has high chance to predict correct label.\n",
    "Our model has score 0.9333333333333333, very close to 1.0, that is suggesting that our model is fitted pretty well to the existing data, our predicted results will show relatively high accuracy."
   ]
  },
  {
   "cell_type": "code",
   "execution_count": 214,
   "metadata": {},
   "outputs": [
    {
     "name": "stdout",
     "output_type": "stream",
     "text": [
      "Intercept:  [ 0.25502736  0.99848572 -1.05413089]\n",
      "Coefficents [[ 0.41506347  1.40920057 -2.201387   -1.0143722 ]\n",
      " [ 0.36244035 -1.46622346  0.49522433 -1.2056787 ]\n",
      " [-1.68272696 -1.54678763  2.4891753   2.38360626]]\n"
     ]
    }
   ],
   "source": [
    "# iv. Extract the coefficents and intercepts for the boundary line(s)\n",
    "intercept = model.intercept_\n",
    "coef = model.coef_\n",
    "\n",
    "print (\"Intercept: \", intercept)\n",
    "print (\"Coefficents\", coef)"
   ]
  },
  {
   "cell_type": "markdown",
   "metadata": {
    "id": "BDUpXQN4Nilk"
   },
   "source": [
    "# Part 4: Support Vector Machine"
   ]
  },
  {
   "cell_type": "code",
   "execution_count": 215,
   "metadata": {
    "colab": {
     "base_uri": "https://localhost:8080/"
    },
    "id": "U__zukpdNqiQ",
    "outputId": "5cd81a50-9137-4f36-842e-0687e9bc7c45"
   },
   "outputs": [
    {
     "name": "stdout",
     "output_type": "stream",
     "text": [
      "Sample datapoint X: [[5.  3.5 1.6 0.6]], Prediction of  y: [0.]\n",
      "The probability of sample data point in class 0 is 0.9570514837619674\n",
      "The probability of sample data point in class 1 is 0.026279548987724756\n",
      "The probability of sample data point in class 2 is 0.01666896725030796\n"
     ]
    },
    {
     "name": "stderr",
     "output_type": "stream",
     "text": [
      "C:\\ProgramData\\Anaconda3\\lib\\site-packages\\sklearn\\utils\\validation.py:724: DataConversionWarning: A column-vector y was passed when a 1d array was expected. Please change the shape of y to (n_samples, ), for example using ravel().\n",
      "  y = column_or_1d(y, warn=True)\n",
      "C:\\ProgramData\\Anaconda3\\lib\\site-packages\\sklearn\\svm\\base.py:193: FutureWarning: The default value of gamma will change from 'auto' to 'scale' in version 0.22 to account better for unscaled features. Set gamma explicitly to 'auto' or 'scale' to avoid this warning.\n",
      "  \"avoid this warning.\", FutureWarning)\n"
     ]
    }
   ],
   "source": [
    "# i. Use sklearn to train a Support Vector Classifier on the training set\n",
    "model = svm.SVC(probability=True)\n",
    "model.fit(X_train, y_train)\n",
    "\n",
    "# ii. For a sample datapoint, predict the probabilities for each possible class\n",
    "#sample = np.array([[ 5.1,3.8,1.5,0.3]])\n",
    "y_prediction = model.predict(sample)\n",
    "print(f\"Sample datapoint X: {sample}, Prediction of  y: {y_prediction}\")\n",
    "\n",
    "probabilities = model.predict_proba(sample)\n",
    "for i in range(len(probabilities[0])):\n",
    "    print(f\"The probability of sample data point in class {i} is {probabilities[0][i]}\")"
   ]
  },
  {
   "cell_type": "code",
   "execution_count": 216,
   "metadata": {},
   "outputs": [
    {
     "name": "stdout",
     "output_type": "stream",
     "text": [
      "Score of the model:  0.9333333333333333\n"
     ]
    }
   ],
   "source": [
    "# iii. Report on the score for the SVM, what does the score measure?\n",
    "score = model.score(X_test, y_test)\n",
    "print(\"Score of the model: \", score)\n"
   ]
  },
  {
   "cell_type": "markdown",
   "metadata": {},
   "source": [
    "The score is the coefficient of prediction, it represents the model's capability in predicting the correct label. The best possible score is 1.0, a model with a score closer to 1.0 has high chance to predict correct label.\n",
    "Our model has score 0.9333333333333333, very close to 1.0, that is suggesting that our model is fitted pretty well to the existing data, our predicted results will show relatively high accuracy."
   ]
  },
  {
   "cell_type": "markdown",
   "metadata": {
    "id": "ULoL7mMBNrlS"
   },
   "source": [
    "# Part 5: Neural Network"
   ]
  },
  {
   "cell_type": "code",
   "execution_count": 217,
   "metadata": {
    "colab": {
     "base_uri": "https://localhost:8080/"
    },
    "id": "CKKmODVrN9lQ",
    "outputId": "dced24f7-c6bd-45fb-c68f-87548e9228dc"
   },
   "outputs": [
    {
     "name": "stdout",
     "output_type": "stream",
     "text": [
      "Sample datapoint X: [[5.  3.5 1.6 0.6]], Prediction of  y: [0.]\n",
      "The probability of sample data point in class 0 is 0.9270237582072944\n",
      "The probability of sample data point in class 1 is 0.07218584657854854\n",
      "The probability of sample data point in class 2 is 0.0007903952141568756\n"
     ]
    },
    {
     "name": "stderr",
     "output_type": "stream",
     "text": [
      "C:\\ProgramData\\Anaconda3\\lib\\site-packages\\sklearn\\neural_network\\multilayer_perceptron.py:921: DataConversionWarning: A column-vector y was passed when a 1d array was expected. Please change the shape of y to (n_samples, ), for example using ravel().\n",
      "  y = column_or_1d(y, warn=True)\n",
      "C:\\ProgramData\\Anaconda3\\lib\\site-packages\\sklearn\\neural_network\\multilayer_perceptron.py:566: ConvergenceWarning: Stochastic Optimizer: Maximum iterations (200) reached and the optimization hasn't converged yet.\n",
      "  % self.max_iter, ConvergenceWarning)\n"
     ]
    }
   ],
   "source": [
    "# i. Use sklearn to train a Neural Network (MLP Classifier) on the training set\n",
    "model = MLPClassifier()\n",
    "model.fit(X_train, y_train)\n",
    "\n",
    "# ii. For a sample datapoint, predict the probabilities for each possible class\n",
    "#sample = np.array([[ 5.1,3.8,1.5,0.3]])\n",
    "y_prediction = model.predict(sample)\n",
    "print(f\"Sample datapoint X: {sample}, Prediction of  y: {y_prediction}\")\n",
    "\n",
    "probabilities = model.predict_proba(sample)\n",
    "for i in range(len(probabilities[0])):\n",
    "    print(f\"The probability of sample data point in class {i} is {probabilities[0][i]}\")\n",
    "\n"
   ]
  },
  {
   "cell_type": "code",
   "execution_count": 218,
   "metadata": {},
   "outputs": [
    {
     "name": "stdout",
     "output_type": "stream",
     "text": [
      "Score of the model:  0.9333333333333333\n"
     ]
    }
   ],
   "source": [
    "# iii. Report on the score for the Neural Network, what does the score measure?\n",
    "score = model.score(X_test, y_test)\n",
    "print(\"Score of the model: \", score)\n"
   ]
  },
  {
   "cell_type": "markdown",
   "metadata": {},
   "source": [
    "The score is the coefficient of prediction, it represents the model's capability in predicting the correct label. The best possible score is 1.0, a model with a score closer to 1.0 has high chance to predict correct label.\n",
    "Our model has score 0.9333333333333333, very close to 1.0, that is suggesting that our model is fitted pretty well to the existing data, our predicted results will show relatively high accuracy."
   ]
  },
  {
   "cell_type": "code",
   "execution_count": 219,
   "metadata": {},
   "outputs": [
    {
     "name": "stdout",
     "output_type": "stream",
     "text": [
      "Score of the model:  0.9333333333333333\n"
     ]
    },
    {
     "name": "stderr",
     "output_type": "stream",
     "text": [
      "C:\\ProgramData\\Anaconda3\\lib\\site-packages\\sklearn\\neural_network\\multilayer_perceptron.py:921: DataConversionWarning: A column-vector y was passed when a 1d array was expected. Please change the shape of y to (n_samples, ), for example using ravel().\n",
      "  y = column_or_1d(y, warn=True)\n",
      "C:\\ProgramData\\Anaconda3\\lib\\site-packages\\sklearn\\neural_network\\multilayer_perceptron.py:566: ConvergenceWarning: Stochastic Optimizer: Maximum iterations (200) reached and the optimization hasn't converged yet.\n",
      "  % self.max_iter, ConvergenceWarning)\n"
     ]
    }
   ],
   "source": [
    "# iv: Experiment with different options for the neural network, report on your best configuration (the highest score I was able to achieve was 0.8666)\n",
    "model = MLPClassifier(hidden_layer_sizes=100)\n",
    "model.fit(X_train, y_train)\n",
    "score = model.score(X_test, y_test)\n",
    "print(\"Score of the model: \", score)\n"
   ]
  },
  {
   "cell_type": "markdown",
   "metadata": {
    "id": "_bi5tDwHmC28"
   },
   "source": [
    "# Part 6: K-Nearest Neighbors"
   ]
  },
  {
   "cell_type": "code",
   "execution_count": 220,
   "metadata": {
    "colab": {
     "base_uri": "https://localhost:8080/"
    },
    "id": "qCFlfJy2mCg6",
    "outputId": "e71bf88c-6418-4b7f-e289-4acf743c16cc"
   },
   "outputs": [
    {
     "name": "stdout",
     "output_type": "stream",
     "text": [
      "Sample datapoint X: [[5.1 3.8 1.5 0.3]], Prediction of  y: [0.]\n",
      "The probability of sample data point in class 0 is 1.0\n",
      "The probability of sample data point in class 1 is 0.0\n",
      "The probability of sample data point in class 2 is 0.0\n"
     ]
    },
    {
     "name": "stderr",
     "output_type": "stream",
     "text": [
      "C:\\ProgramData\\Anaconda3\\lib\\site-packages\\ipykernel_launcher.py:6: DataConversionWarning: A column-vector y was passed when a 1d array was expected. Please change the shape of y to (n_samples, ), for example using ravel().\n",
      "  \n"
     ]
    }
   ],
   "source": [
    "# i. Use sklearn to 'train' a k-Neighbors Classifier\n",
    "# Note: KNN is a nonparametric model and technically doesn't require training\n",
    "# fit will essentially load the data into the model see link below for more information\n",
    "# https://stats.stackexchange.com/questions/349842/why-do-we-need-to-fit-a-k-nearest-neighbors-classifier\n",
    "model = KNeighborsClassifier()\n",
    "model.fit(X_train, y_train)\n",
    "\n",
    "# ii. For a sample datapoint, predict the probabilities for each possible class\n",
    "sample = np.array([[ 5.1,3.8,1.5,0.3]])\n",
    "y_prediction = model.predict(sample)\n",
    "print(f\"Sample datapoint X: {sample}, Prediction of  y: {y_prediction}\")\n",
    "\n",
    "probabilities = model.predict_proba(sample)\n",
    "for i in range(len(probabilities[0])):\n",
    "    print(f\"The probability of sample data point in class {i} is {probabilities[0][i]}\")\n",
    "\n"
   ]
  },
  {
   "cell_type": "code",
   "execution_count": 221,
   "metadata": {},
   "outputs": [
    {
     "name": "stdout",
     "output_type": "stream",
     "text": [
      "Score of the model:  0.8666666666666667\n"
     ]
    }
   ],
   "source": [
    "# iii. Report on the score for kNN, what does the score measure?\n",
    "score = model.score(X_test, y_test)\n",
    "print(\"Score of the model: \", score)"
   ]
  },
  {
   "cell_type": "markdown",
   "metadata": {},
   "source": [
    "The score is the coefficient of prediction, it represents the model's capability in predicting the correct label. The best possible score is 1.0, a model with a score closer to 1.0 has high chance to predict correct label.\n",
    "Our model has score 0.8666666666666667, very close to 1.0, that is suggesting that our model is fitted pretty well to the existing data, our predicted results will show relatively high accuracy."
   ]
  },
  {
   "cell_type": "markdown",
   "metadata": {
    "id": "162Sw3LeoqE2"
   },
   "source": [
    "# Part 7: Conclusions and takeaways\n",
    "\n",
    "In your own words describe the results of the notebook. Which model(s) performed the best on the dataset? Why do you think that is? Did anything surprise you about the exercise?"
   ]
  },
  {
   "cell_type": "code",
   "execution_count": null,
   "metadata": {},
   "outputs": [],
   "source": []
  }
 ],
 "metadata": {
  "colab": {
   "collapsed_sections": [],
   "name": "Untitled1.ipynb",
   "provenance": []
  },
  "kernelspec": {
   "display_name": "Python 3",
   "language": "python",
   "name": "python3"
  },
  "language_info": {
   "codemirror_mode": {
    "name": "ipython",
    "version": 3
   },
   "file_extension": ".py",
   "mimetype": "text/x-python",
   "name": "python",
   "nbconvert_exporter": "python",
   "pygments_lexer": "ipython3",
   "version": "3.7.3"
  }
 },
 "nbformat": 4,
 "nbformat_minor": 1
}
